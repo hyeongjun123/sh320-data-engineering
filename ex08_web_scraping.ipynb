{
 "cells": [
  {
   "cell_type": "markdown",
   "metadata": {},
   "source": [
    "## <strong> 8. 웹 스크래핑 </strong>"
   ]
  },
  {
   "cell_type": "markdown",
   "metadata": {},
   "source": [
    "필요한 라이브러리\n",
    "+ ```requests```: HTTP 프로토콜을 통해 HTML 문서를 요청\n",
    "+ ```beautifulsoup4```: HTML 문서로 부터 원하는 데이터 추출"
   ]
  },
  {
   "cell_type": "code",
   "execution_count": 3,
   "metadata": {},
   "outputs": [
    {
     "name": "stdout",
     "output_type": "stream",
     "text": [
      "Requirement already satisfied: requests in c:\\users\\hj\\anaconda3\\envs\\dnn_basic_python\\lib\\site-packages (2.32.3)\n",
      "Requirement already satisfied: charset-normalizer<4,>=2 in c:\\users\\hj\\anaconda3\\envs\\dnn_basic_python\\lib\\site-packages (from requests) (3.3.2)\n",
      "Requirement already satisfied: idna<4,>=2.5 in c:\\users\\hj\\anaconda3\\envs\\dnn_basic_python\\lib\\site-packages (from requests) (3.7)\n",
      "Requirement already satisfied: urllib3<3,>=1.21.1 in c:\\users\\hj\\anaconda3\\envs\\dnn_basic_python\\lib\\site-packages (from requests) (2.3.0)\n",
      "Requirement already satisfied: certifi>=2017.4.17 in c:\\users\\hj\\anaconda3\\envs\\dnn_basic_python\\lib\\site-packages (from requests) (2025.1.31)\n"
     ]
    }
   ],
   "source": [
    "# pip install requests\n",
    "!pip3 install requests\n"
   ]
  },
  {
   "cell_type": "code",
   "execution_count": 4,
   "metadata": {},
   "outputs": [
    {
     "name": "stdout",
     "output_type": "stream",
     "text": [
      "Requirement already satisfied: beautifulsoup4 in c:\\users\\hj\\anaconda3\\envs\\dnn_basic_python\\lib\\site-packages (4.12.3)\n",
      "Requirement already satisfied: soupsieve>1.2 in c:\\users\\hj\\anaconda3\\envs\\dnn_basic_python\\lib\\site-packages (from beautifulsoup4) (2.5)\n"
     ]
    }
   ],
   "source": [
    "# pip install beautifulsoup4\n",
    "!pip3 install beautifulsoup4\n"
   ]
  },
  {
   "cell_type": "code",
   "execution_count": 5,
   "metadata": {},
   "outputs": [],
   "source": [
    "import requests\n",
    "from bs4 import BeautifulSoup"
   ]
  },
  {
   "cell_type": "markdown",
   "metadata": {},
   "source": [
    "### <strong> 예제 1: 메타버스 키워드 검색 및 뉴스 타이틀 추출\n",
    "----"
   ]
  },
  {
   "cell_type": "code",
   "execution_count": 6,
   "metadata": {
    "scrolled": true,
    "tags": []
   },
   "outputs": [],
   "source": [
    "# 웹페이지 주소\n",
    "url = 'https://search.naver.com/search.naver?where=nexearch&sm=top_hty&fbm=0&ie=utf8&query=%EB%A9%94%ED%83%80%EB%B2%84%EC%8A%A4'\n",
    "\n",
    "# [+] HTTP GET Request로 HTML 문서 받아오기\n",
    "res = requests.get(url)"
   ]
  },
  {
   "cell_type": "code",
   "execution_count": 7,
   "metadata": {},
   "outputs": [
    {
     "data": {
      "text/plain": [
       "<Response [200]>"
      ]
     },
     "execution_count": 7,
     "metadata": {},
     "output_type": "execute_result"
    }
   ],
   "source": [
    "res"
   ]
  },
  {
   "cell_type": "code",
   "execution_count": 8,
   "metadata": {},
   "outputs": [
    {
     "name": "stdout",
     "output_type": "stream",
     "text": [
      "<!doctype html> <html lang=\"ko\"><head> <meta charset=\"utf-8\"> <meta name=\"referrer\" content=\"always\">  <meta name=\"format-detection\" content=\"telephone=no,address=no,email=no\"> <meta property=\"og:title\" content=\"메타버스 : 네이버 검색\"/> <meta property=\"og:image\" content=\"https://ssl.pstatic.net/sstatic/sear\n",
      "\n",
      "...생략...\n"
     ]
    }
   ],
   "source": [
    "# [+] HTML 문서로부터 텍스트 데이터 덩어리 추출\n",
    "html_doc = res.text\n",
    "print(html_doc[:300] + \"\\n\\n...생략...\")"
   ]
  },
  {
   "cell_type": "markdown",
   "metadata": {},
   "source": [
    "#### <strong> BeautifulSoup 파서 사용하기</strong>\n",
    "+ ```html.parser```: HTML 문서 전용 파서\n",
    "+ ```xml```: XML 문서 전용 파서"
   ]
  },
  {
   "cell_type": "code",
   "execution_count": 9,
   "metadata": {
    "scrolled": true,
    "tags": []
   },
   "outputs": [],
   "source": [
    "# [+] Beautiful Soup에서 제공하는 HTML 파서 생성\n",
    "soup = BeautifulSoup(html_doc, 'html.parser')"
   ]
  },
  {
   "cell_type": "markdown",
   "metadata": {},
   "source": [
    "```BeautifulSoup.prettify()```: 문서 정보를 시각적으로 보기 좋게 재구조화"
   ]
  },
  {
   "cell_type": "code",
   "execution_count": 10,
   "metadata": {},
   "outputs": [
    {
     "name": "stdout",
     "output_type": "stream",
     "text": [
      "<!DOCTYPE html>\n",
      "<html lang=\"ko\">\n",
      " <head>\n",
      "  <meta charset=\"utf-8\"/>\n",
      "  <meta content=\"always\" name=\"referrer\"/>\n",
      "  <meta content=\"telephone=no,address=no,email=no\" name=\"format-detection\"/>\n",
      "  <meta content=\"메타버스 : 네이버 검색\" property=\"og:title\">\n",
      "   <meta content=\"https://ssl.pstatic.net/sstatic/search/common/og_v3.png\" property=\"og:image\"/>\n",
      "   <meta content=\"'메타버스'의 네이버 검색 결과입니다.\" property=\"og:description\"/>\n",
      "   <meta content=\"'메타버스'의 네이버 검색 결과입니다.\" lang=\"ko\" name=\"description\"/>\n",
      "   <title>\n",
      "    메타버스 : \n",
      "\n",
      "...생략...\n"
     ]
    }
   ],
   "source": [
    "print(soup.prettify()[:500] + \"\\n\\n...생략...\")"
   ]
  },
  {
   "cell_type": "markdown",
   "metadata": {},
   "source": [
    "`BeautifulSoup.find_all()`: 특정 태그 정보들을 검색"
   ]
  },
  {
   "cell_type": "code",
   "execution_count": null,
   "metadata": {
    "scrolled": true,
    "tags": []
   },
   "outputs": [
    {
     "name": "stdout",
     "output_type": "stream",
     "text": [
      "<a href=\"#lnb\"><span>메뉴 영역으로 바로가기</span></a>\n",
      "<a href=\"#content\"><span>본문 영역으로 바로가기</span></a>\n",
      "<a class=\"link\" href=\"https://www.naver.com\" onclick=\"return goOtherCR(this, 'a=sta.naver&amp;r=&amp;i=&amp;u='+urlencode(this.href));\"><i class=\"spnew2 ico_logo\">NAVER</i></a>\n",
      "<a aria-pressed=\"false\" class=\"bt_setkr\" href=\"#\" id=\"ke_kbd_btn\" onclick=\"return tCR('a=sch.ime');\" role=\"button\"> <i class=\"spnew2 ico_keyboard\">한글 입력기</i> <div class=\"guide_text\">입력도구</div> </a>\n",
      "<a aria-pressed=\"false\" class=\"bt_atcp _btn_arw\" data-atcmp-element=\"\" href=\"#\" id=\"nautocomplete\" role=\"button\"><i class=\"spnew2 ico_arrow\">자동완성 레이어</i><div class=\"guide_text\">검색 레이어</div></a>\n"
     ]
    }
   ],
   "source": [
    "# [+] 문서 내에 모든 <a> 태그들을 검색\n",
    "links = soup.find_all('a')\n",
    "for tag in links[:5]:  # 앞 5개만 출력     (너무 많아서 생략)\n",
    "    print(tag)"
   ]
  },
  {
   "cell_type": "code",
   "execution_count": 13,
   "metadata": {
    "scrolled": true,
    "tags": []
   },
   "outputs": [
    {
     "data": {
      "text/plain": [
       "[<a class=\"news_tit\" href=\"https://www.newsis.com/view/NISX20250416_0003141210\" onclick=\"return goOtherCR(this, 'a=nws_all*a.tit&amp;r=1&amp;i=88000127_000000000000000013186542&amp;g=003.0013186542&amp;u='+urlencode(this.href));\" target=\"_blank\" title=\"인천TP, XR·메타버스 우수콘텐츠 개발·실증 지원과제 모집\">인천TP, XR·<mark>메타버스</mark> 우수콘텐츠 개발·실증 지원과제 모집</a>,\n",
       " <a class=\"news_tit\" href=\"https://www.yna.co.kr/view/AKR20250415166700017?input=1195m\" onclick=\"return goOtherCR(this, 'a=nws_all*e.tit&amp;r=4&amp;i=880000D8_000000000000000015332814&amp;g=001.0015332814&amp;u='+urlencode(this.href));\" target=\"_blank\" title=\"'배그 아버지' 브렌든 그린 &quot;인터넷 같은 3D 메타버스 만든다&quot;\">'배그 아버지' 브렌든 그린 \"인터넷 같은 3D <mark>메타버스</mark> 만든다\"</a>,\n",
       " <a class=\"news_tit\" href=\"http://www.fnnews.com/news/202504140914496540\" onclick=\"return goOtherCR(this, 'a=nws_all*e.tit&amp;r=5&amp;i=880000FF_000000000000000005335287&amp;g=014.0005335287&amp;u='+urlencode(this.href));\" target=\"_blank\" title=\"AI·메타버스 결합된 영어 스피킹 앱 나왔다\">AI·<mark>메타버스</mark> 결합된 영어 스피킹 앱 나왔다</a>,\n",
       " <a class=\"news_tit\" href=\"https://www.dkilbo.com/news/articleView.html?idxno=492398\" onclick=\"return goOtherCR(this, 'a=nws_all*b.tit&amp;r=6&amp;i=881842d9_000000000000000000255646&amp;g=5581.0000255646&amp;u='+urlencode(this.href));\" target=\"_blank\" title=\"대구 달서구, 메타버스 기반 도로명주소 교육\">대구 달서구, <mark>메타버스</mark> 기반 도로명주소 교육</a>]"
      ]
     },
     "execution_count": 13,
     "metadata": {},
     "output_type": "execute_result"
    }
   ],
   "source": [
    "# [+]뉴스에 해당되는 태그들만 검색하기\n",
    "# \"class\" 속성이 \"news_tit\"인 <a> 태그\n",
    "news = soup.find_all(\"a\", {\"class\":\"news_tit\"})\n",
    "news"
   ]
  },
  {
   "cell_type": "code",
   "execution_count": 14,
   "metadata": {},
   "outputs": [
    {
     "data": {
      "text/plain": [
       "<a class=\"news_tit\" href=\"https://www.newsis.com/view/NISX20250416_0003141210\" onclick=\"return goOtherCR(this, 'a=nws_all*a.tit&amp;r=1&amp;i=88000127_000000000000000013186542&amp;g=003.0013186542&amp;u='+urlencode(this.href));\" target=\"_blank\" title=\"인천TP, XR·메타버스 우수콘텐츠 개발·실증 지원과제 모집\">인천TP, XR·<mark>메타버스</mark> 우수콘텐츠 개발·실증 지원과제 모집</a>"
      ]
     },
     "execution_count": 14,
     "metadata": {},
     "output_type": "execute_result"
    }
   ],
   "source": [
    "# 첫 번째 뉴스\n",
    "news[0]"
   ]
  },
  {
   "cell_type": "code",
   "execution_count": 15,
   "metadata": {},
   "outputs": [
    {
     "name": "stdout",
     "output_type": "stream",
     "text": [
      "https://www.newsis.com/view/NISX20250416_0003141210\n"
     ]
    }
   ],
   "source": [
    "# [+] 뉴스의 URL 정보 가져오기\n",
    "url = news[0].get('href')\n",
    "print(url)\n"
   ]
  },
  {
   "cell_type": "code",
   "execution_count": 16,
   "metadata": {},
   "outputs": [
    {
     "name": "stdout",
     "output_type": "stream",
     "text": [
      "인천TP, XR·메타버스 우수콘텐츠 개발·실증 지원과제 모집\n"
     ]
    }
   ],
   "source": [
    "# [+] 뉴스의 제목 정보 가져오기\n",
    "title = news[0].get('title')\n",
    "print(title)\n"
   ]
  },
  {
   "cell_type": "code",
   "execution_count": 17,
   "metadata": {},
   "outputs": [
    {
     "name": "stdout",
     "output_type": "stream",
     "text": [
      "인천TP, XR·메타버스 우수콘텐츠 개발·실증 지원과제 모집\n",
      "'배그 아버지' 브렌든 그린 \"인터넷 같은 3D 메타버스 만든다\"\n",
      "AI·메타버스 결합된 영어 스피킹 앱 나왔다\n",
      "대구 달서구, 메타버스 기반 도로명주소 교육\n"
     ]
    }
   ],
   "source": [
    "# [+] 모든 뉴스의 제목 출력하기\n",
    "for news_obj in news:\n",
    "    print(news_obj.get('title'))"
   ]
  }
 ],
 "metadata": {
  "kernelspec": {
   "display_name": "DNN_Basic_Python",
   "language": "python",
   "name": "python3"
  },
  "language_info": {
   "codemirror_mode": {
    "name": "ipython",
    "version": 3
   },
   "file_extension": ".py",
   "mimetype": "text/x-python",
   "name": "python",
   "nbconvert_exporter": "python",
   "pygments_lexer": "ipython3",
   "version": "3.11.11"
  }
 },
 "nbformat": 4,
 "nbformat_minor": 4
}
